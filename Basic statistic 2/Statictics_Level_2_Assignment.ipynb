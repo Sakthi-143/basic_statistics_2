{
  "nbformat": 4,
  "nbformat_minor": 0,
  "metadata": {
    "colab": {
      "provenance": []
    },
    "kernelspec": {
      "name": "python3",
      "display_name": "Python 3"
    },
    "language_info": {
      "name": "python"
    }
  },
  "cells": [
    {
      "cell_type": "markdown",
      "source": [
        "# SET_2"
      ],
      "metadata": {
        "id": "RPB16dcWnyMd"
      }
    },
    {
      "cell_type": "markdown",
      "source": [
        "# Question 1"
      ],
      "metadata": {
        "id": "9_fUky6Jn7Su"
      }
    },
    {
      "cell_type": "code",
      "source": [
        "import scipy.stats as stats\n",
        "\n",
        "# Given parameters\n",
        "mean_time = 45  # mean time in minutes\n",
        "std_dev = 8     # standard deviation in minutes\n",
        "drop_off_to_work_delay = 10  # time from drop-off to starting work in minutes\n",
        "commitment_time = 60  # commitment time in minutes\n",
        "\n",
        "# Calculate the time needed for servicing (total time including drop-off to work delay)\n",
        "total_time_needed = mean_time + drop_off_to_work_delay\n",
        "\n",
        "# Calculate the probability that the service time exceeds the commitment time\n",
        "probability_exceed_commitment = 1 - stats.norm.cdf(commitment_time, loc=total_time_needed, scale=std_dev)\n",
        "\n",
        "print(f\"The probability that the service manager cannot meet his commitment: {probability_exceed_commitment:.4f}\")\n"
      ],
      "metadata": {
        "colab": {
          "base_uri": "https://localhost:8080/"
        },
        "id": "sXiWCpegn_b2",
        "outputId": "82f17b2b-4e56-4dab-e87f-ad518cf18489"
      },
      "execution_count": 1,
      "outputs": [
        {
          "output_type": "stream",
          "name": "stdout",
          "text": [
            "The probability that the service manager cannot meet his commitment: 0.2660\n"
          ]
        }
      ]
    },
    {
      "cell_type": "markdown",
      "source": [
        "# question 2"
      ],
      "metadata": {
        "id": "Wmb3Zwlzoy9v"
      }
    },
    {
      "cell_type": "code",
      "source": [
        "import scipy.stats as stats\n",
        "\n",
        "mean_age = 38\n",
        "std_dev_age = 6\n",
        "\n",
        "# Probability of being older than 44\n",
        "prob_older_than_44 = 1 - stats.norm.cdf(44, loc=mean_age, scale=std_dev_age)\n",
        "\n",
        "# Probability of being between 38 and 44\n",
        "prob_between_38_and_44 = stats.norm.cdf(44, loc=mean_age, scale=std_dev_age) - stats.norm.cdf(38, loc=mean_age, scale=std_dev_age)\n",
        "\n",
        "result_a = prob_older_than_44 > prob_between_38_and_44\n",
        "print(f\"Statement A is {result_a}\")\n"
      ],
      "metadata": {
        "colab": {
          "base_uri": "https://localhost:8080/"
        },
        "id": "9UNDqUdToQJ-",
        "outputId": "7eadfd80-52a5-4ed5-ced3-76875a425a44"
      },
      "execution_count": 2,
      "outputs": [
        {
          "output_type": "stream",
          "name": "stdout",
          "text": [
            "Statement A is False\n"
          ]
        }
      ]
    },
    {
      "cell_type": "code",
      "source": [
        "# Probability density function (PDF) for the normal distribution\n",
        "pdf_under_30 = stats.norm.pdf(range(30), loc=mean_age, scale=std_dev_age)\n",
        "\n",
        "# Expected number of employees under the age of 30\n",
        "expected_employees_under_30 = sum(pdf_under_30)\n",
        "\n",
        "result_b = expected_employees_under_30 == 36\n",
        "print(f\"Statement B is {result_b}\")\n"
      ],
      "metadata": {
        "colab": {
          "base_uri": "https://localhost:8080/"
        },
        "id": "-4_yeIOhpBB6",
        "outputId": "371a253b-2f44-455f-c02b-485cfd3a4b63"
      },
      "execution_count": 3,
      "outputs": [
        {
          "output_type": "stream",
          "name": "stdout",
          "text": [
            "Statement B is False\n"
          ]
        }
      ]
    },
    {
      "cell_type": "markdown",
      "source": [
        "# Question 3"
      ],
      "metadata": {
        "id": "JFlzAVxzqD2y"
      }
    },
    {
      "cell_type": "code",
      "source": [
        "import numpy as np\n",
        "import matplotlib.pyplot as plt\n",
        "import seaborn as sns\n",
        "\n",
        "# Set the parameters\n",
        "mu = 0\n",
        "sigma = 1\n",
        "\n",
        "# Generate random samples\n",
        "np.random.seed(42)\n",
        "X1 = np.random.normal(mu, sigma, 10000)\n",
        "X2 = np.random.normal(mu, sigma, 10000)\n",
        "\n",
        "# Calculate 2X1 and X1 + X2\n",
        "X_2X1 = 2 * X1\n",
        "X_sum = X1 + X2\n",
        "\n",
        "# Plot the distributions\n",
        "plt.figure(figsize=(12, 6))\n",
        "\n",
        "# Plot for 2X1\n",
        "plt.subplot(1, 2, 1)\n",
        "sns.histplot(X_2X1, bins=50, kde=True, color='blue', label='2X1')\n",
        "plt.title('Distribution of 2X1')\n",
        "plt.xlabel('Value')\n",
        "plt.ylabel('Frequency')\n",
        "plt.legend()\n",
        "\n",
        "# Plot for X1 + X2\n",
        "plt.subplot(1, 2, 2)\n",
        "sns.histplot(X_sum, bins=50, kde=True, color='orange', label='X1 + X2')\n",
        "plt.title('Distribution of X1 + X2')\n",
        "plt.xlabel('Value')\n",
        "plt.ylabel('Frequency')\n",
        "plt.legend()\n",
        "\n",
        "plt.tight_layout()\n",
        "plt.show()\n"
      ],
      "metadata": {
        "colab": {
          "base_uri": "https://localhost:8080/",
          "height": 337
        },
        "id": "Q4EXr3NRpEai",
        "outputId": "86fd8d9e-1a93-43cf-8ceb-5fa988ba4b59"
      },
      "execution_count": 4,
      "outputs": [
        {
          "output_type": "display_data",
          "data": {
            "text/plain": [
              "<Figure size 1200x600 with 2 Axes>"
            ],
            "image/png": "[encoded data removed]"
          },
          "metadata": {}
        }
      ]
    },
    {
      "cell_type": "markdown",
      "source": [
        "# Question 4"
      ],
      "metadata": {
        "id": "5HNMUqA5q_vD"
      }
    },
    {
      "cell_type": "code",
      "source": [
        "import scipy.stats as stats\n",
        "\n",
        "# Given parameters\n",
        "mean = 100\n",
        "std_dev = 20\n",
        "confidence_interval = 0.99\n",
        "\n",
        "# Find the z-scores corresponding to the tails of the distribution\n",
        "tail_probability = (1 - confidence_interval) / 2\n",
        "z_score = stats.norm.ppf(1 - tail_probability)\n",
        "\n",
        "# Calculate a and b\n",
        "a = mean - z_score * std_dev\n",
        "b = mean + z_score * std_dev\n",
        "\n",
        "print(f\"The values a and b are: {a:.1f}, {b:.1f}\")\n"
      ],
      "metadata": {
        "colab": {
          "base_uri": "https://localhost:8080/"
        },
        "id": "11CDL6JVq_a_",
        "outputId": "c8a7f37f-485b-44bd-c9e9-e0a9cc057846"
      },
      "execution_count": 5,
      "outputs": [
        {
          "output_type": "stream",
          "name": "stdout",
          "text": [
            "The values a and b are: 48.5, 151.5\n"
          ]
        }
      ]
    },
    {
      "cell_type": "markdown",
      "source": [
        "# Question 5"
      ],
      "metadata": {
        "id": "HCQQx5RgrfMB"
      }
    },
    {
      "cell_type": "markdown",
      "source": [
        "# a"
      ],
      "metadata": {
        "id": "jTPeTupjr1FL"
      }
    },
    {
      "cell_type": "code",
      "source": [
        "import scipy.stats as stats\n",
        "\n",
        "# Given parameters\n",
        "mean_profit1 = 5\n",
        "std_dev_profit1 = 3\n",
        "mean_profit2 = 7\n",
        "std_dev_profit2 = 4\n",
        "conversion_rate = 45\n",
        "\n",
        "# Calculate mean and standard deviation for the total profit\n",
        "mean_total_profit = mean_profit1 + mean_profit2\n",
        "std_dev_total_profit = (std_dev_profit1**2 + std_dev_profit2**2)**0.5\n",
        "\n",
        "# Convert to Rupees\n",
        "mean_total_profit_rupees = mean_total_profit * conversion_rate\n",
        "std_dev_total_profit_rupees = std_dev_total_profit * conversion_rate\n",
        "\n",
        "# Calculate the Rupee range for 95% probability\n",
        "lower_bound = mean_total_profit_rupees - 1.96 * std_dev_total_profit_rupees\n",
        "upper_bound = mean_total_profit_rupees + 1.96 * std_dev_total_profit_rupees\n",
        "\n",
        "print(f\"A. Rupee range for 95% probability: ({lower_bound:.2f} Rs, {upper_bound:.2f} Rs)\")\n"
      ],
      "metadata": {
        "colab": {
          "base_uri": "https://localhost:8080/"
        },
        "id": "QcTyHBqlqHne",
        "outputId": "174ba24e-6376-4736-d621-ee087c75a699"
      },
      "execution_count": 6,
      "outputs": [
        {
          "output_type": "stream",
          "name": "stdout",
          "text": [
            "A. Rupee range for 95% probability: (99.00 Rs, 981.00 Rs)\n"
          ]
        }
      ]
    },
    {
      "cell_type": "markdown",
      "source": [
        "# b"
      ],
      "metadata": {
        "id": "62eTwCArr3vz"
      }
    },
    {
      "cell_type": "code",
      "source": [
        "# Calculate the 5th percentile for the total profit\n",
        "percentile_5_rupees = stats.norm.ppf(0.05, loc=mean_total_profit_rupees, scale=std_dev_total_profit_rupees)\n",
        "\n",
        "print(f\"B. 5th percentile of profit: {percentile_5_rupees:.2f} Rs\")\n"
      ],
      "metadata": {
        "colab": {
          "base_uri": "https://localhost:8080/"
        },
        "id": "rNWYQW_TryxY",
        "outputId": "22c30482-40f1-425a-a26f-a1be4d247c41"
      },
      "execution_count": 7,
      "outputs": [
        {
          "output_type": "stream",
          "name": "stdout",
          "text": [
            "B. 5th percentile of profit: 169.91 Rs\n"
          ]
        }
      ]
    },
    {
      "cell_type": "markdown",
      "source": [
        "# c"
      ],
      "metadata": {
        "id": "NTb3wREir8-Z"
      }
    },
    {
      "cell_type": "code",
      "source": [
        "# Calculate the probability of Profit1 being negative\n",
        "prob_loss_profit1 = stats.norm.cdf(0, loc=mean_profit1, scale=std_dev_profit1)\n",
        "\n",
        "# Calculate the probability of Profit2 being negative\n",
        "prob_loss_profit2 = stats.norm.cdf(0, loc=mean_profit2, scale=std_dev_profit2)\n",
        "\n",
        "# Compare the probabilities\n",
        "if prob_loss_profit1 > prob_loss_profit2:\n",
        "    larger_loss_probability = \"Profit1\"\n",
        "else:\n",
        "    larger_loss_probability = \"Profit2\"\n",
        "\n",
        "print(f\"C. The division with a larger probability of making a loss: {larger_loss_probability}\")\n"
      ],
      "metadata": {
        "colab": {
          "base_uri": "https://localhost:8080/"
        },
        "id": "VG6wREeSr73K",
        "outputId": "a2e388ef-981d-4a08-e6f9-6e4ea483dfa2"
      },
      "execution_count": 8,
      "outputs": [
        {
          "output_type": "stream",
          "name": "stdout",
          "text": [
            "C. The division with a larger probability of making a loss: Profit1\n"
          ]
        }
      ]
    },
    {
      "cell_type": "code",
      "source": [],
      "metadata": {
        "id": "yZTeYTNXsBGs"
      },
      "execution_count": null,
      "outputs": []
    },
    {
      "cell_type": "markdown",
      "source": [
        "# SET_3"
      ],
      "metadata": {
        "id": "SBwbbfqIw-0h"
      }
    },
    {
      "cell_type": "markdown",
      "source": [
        "# Question 5"
      ],
      "metadata": {
        "id": "ckbbScGQxCBR"
      }
    },
    {
      "cell_type": "code",
      "source": [
        "from scipy.stats import binom_test\n",
        "\n",
        "# Assuming the sample size and observed proportion\n",
        "n = 2000\n",
        "p_observed = 0.046  # 4.6% as a decimal\n",
        "\n",
        "# Hypothesized proportion under the null hypothesis\n",
        "p_hypothesized = 0.05  # 5% as a decimal\n",
        "\n",
        "# Perform a one-sided binomial test\n",
        "p_value = binom_test(int(n * p_observed), n, p_hypothesized, alternative='less')\n",
        "\n",
        "# Compare the p-value to the significance level (e.g., 0.05)\n",
        "if p_value < 0.05:\n",
        "    print(\"Reject the null hypothesis. There is evidence that Mozilla has less than a 5% market share.\")\n",
        "else:\n",
        "    print(\"Fail to reject the null hypothesis. There is not enough evidence to conclude Mozilla has less than a 5% market share.\")\n"
      ],
      "metadata": {
        "colab": {
          "base_uri": "https://localhost:8080/"
        },
        "id": "B43C4757u0BM",
        "outputId": "5e933a14-fafe-421b-9f4c-1f0dbb53e305"
      },
      "execution_count": 10,
      "outputs": [
        {
          "output_type": "stream",
          "name": "stdout",
          "text": [
            "Fail to reject the null hypothesis. There is not enough evidence to conclude Mozilla has less than a 5% market share.\n"
          ]
        },
        {
          "output_type": "stream",
          "name": "stderr",
          "text": [
            "<ipython-input-10-b1675fcddd4e>:11: DeprecationWarning: 'binom_test' is deprecated in favour of 'binomtest' from version 1.7.0 and will be removed in Scipy 1.12.0.\n",
            "  p_value = binom_test(int(n * p_observed), n, p_hypothesized, alternative='less')\n"
          ]
        }
      ]
    },
    {
      "cell_type": "markdown",
      "source": [
        "# Question 8"
      ],
      "metadata": {
        "id": "RDQiFFWRxqZl"
      }
    },
    {
      "cell_type": "code",
      "source": [
        "import math\n",
        "\n",
        "def calculate_minimum_sample_size(confidence_level, margin_of_error, estimated_proportion=None):\n",
        "    # Z-score for the desired confidence level\n",
        "    z_score = 1.96  # for a 95% confidence level\n",
        "\n",
        "    # Estimated proportion (use 0.5 if not provided)\n",
        "    p = estimated_proportion if estimated_proportion is not None else 0.5\n",
        "\n",
        "    # Calculate minimum sample size formula\n",
        "    n = math.ceil((z_score**2 * p * (1 - p)) / margin_of_error**2)\n",
        "\n",
        "    return n\n",
        "\n",
        "# Input parameters\n",
        "confidence_level = 0.95  # 95% confidence level\n",
        "margin_of_error = 0.04  # 4% margin of error\n",
        "\n",
        "# Calculate minimum sample size\n",
        "minimum_sample_size = calculate_minimum_sample_size(confidence_level, margin_of_error)\n",
        "\n",
        "print(f\"The minimum number of randomly selected employers is: {minimum_sample_size}\")\n"
      ],
      "metadata": {
        "colab": {
          "base_uri": "https://localhost:8080/"
        },
        "id": "eyxrNn_AxGB_",
        "outputId": "3a60f2ad-eacf-4751-a4e3-910a1fc8cc6f"
      },
      "execution_count": 11,
      "outputs": [
        {
          "output_type": "stream",
          "name": "stdout",
          "text": [
            "The minimum number of randomly selected employers is: 601\n"
          ]
        }
      ]
    },
    {
      "cell_type": "markdown",
      "source": [
        "# Question 9"
      ],
      "metadata": {
        "id": "wAotJUR5zWOv"
      }
    },
    {
      "cell_type": "code",
      "source": [
        "import math\n",
        "\n",
        "def calculate_minimum_sample_size(confidence_level, margin_of_error, estimated_proportion=None):\n",
        "    # Z-score for the desired confidence level\n",
        "    z_score = 2.33  # for a 98% confidence level\n",
        "\n",
        "    # Estimated proportion (use 0.5 if not provided)\n",
        "    p = estimated_proportion if estimated_proportion is not None else 0.5\n",
        "\n",
        "    # Calculate minimum sample size formula\n",
        "    n = math.ceil((z_score**2 * p * (1 - p)) / margin_of_error**2)\n",
        "\n",
        "    return n\n",
        "\n",
        "# Input parameters\n",
        "confidence_level = 0.98  # 98% confidence level\n",
        "margin_of_error = 0.04  # 4% margin of error\n",
        "\n",
        "# Calculate minimum sample size\n",
        "minimum_sample_size = calculate_minimum_sample_size(confidence_level, margin_of_error)\n",
        "print(minimum_sample_size)\n",
        "print(f\"The minimum number of randomly selected employers is: {minimum_sample_size}\")\n"
      ],
      "metadata": {
        "colab": {
          "base_uri": "https://localhost:8080/"
        },
        "id": "l4qIgx3LxuLj",
        "outputId": "fe0c4114-243f-47a4-ddc9-de15f8983023"
      },
      "execution_count": 15,
      "outputs": [
        {
          "output_type": "stream",
          "name": "stdout",
          "text": [
            "849\n",
            "The minimum number of randomly selected employers is: 849\n"
          ]
        }
      ]
    },
    {
      "cell_type": "markdown",
      "source": [
        "# SET_4"
      ],
      "metadata": {
        "id": "PDFDdbq_iKa6"
      }
    },
    {
      "cell_type": "markdown",
      "source": [
        "#Question 3"
      ],
      "metadata": {
        "id": "Y9dev_MriNGU"
      }
    },
    {
      "cell_type": "code",
      "source": [
        "pip install scipy\n"
      ],
      "metadata": {
        "colab": {
          "base_uri": "https://localhost:8080/"
        },
        "id": "8PGmX8KfzRTt",
        "outputId": "6536889e-178f-4cbe-e523-5c34a0aba145"
      },
      "execution_count": 16,
      "outputs": [
        {
          "output_type": "stream",
          "name": "stdout",
          "text": [
            "Requirement already satisfied: scipy in /usr/local/lib/python3.10/dist-packages (1.11.4)\n",
            "Requirement already satisfied: numpy<1.28.0,>=1.21.6 in /usr/local/lib/python3.10/dist-packages (from scipy) (1.23.5)\n"
          ]
        }
      ]
    },
    {
      "cell_type": "code",
      "source": [
        "from scipy.stats import norm\n",
        "\n",
        "# Given data\n",
        "population_mean = 50\n",
        "population_stddev = 40\n",
        "sample_size = 100\n",
        "sample_mean_range = (45, 55)\n",
        "\n",
        "# Calculate standard error of the mean (SE)\n",
        "se = population_stddev / (sample_size ** 0.5)\n",
        "\n",
        "# Calculate z-scores for the lower and upper limits\n",
        "z_lower = (sample_mean_range[0] - population_mean) / se\n",
        "z_upper = (sample_mean_range[1] - population_mean) / se\n",
        "\n",
        "# Calculate probabilities\n",
        "prob_lower = norm.cdf(z_lower)\n",
        "prob_upper = 1 - norm.cdf(z_upper)\n",
        "\n",
        "# Probability of investigation (outside the range)\n",
        "prob_investigation = prob_lower + prob_upper\n",
        "\n",
        "print(f\"The probability of investigation is: {prob_investigation:.4f}\")\n"
      ],
      "metadata": {
        "colab": {
          "base_uri": "https://localhost:8080/"
        },
        "id": "iRrKKIkAiPiO",
        "outputId": "c5814761-5102-40c4-f6bc-24b1f48786d0"
      },
      "execution_count": 17,
      "outputs": [
        {
          "output_type": "stream",
          "name": "stdout",
          "text": [
            "The probability of investigation is: 0.2113\n"
          ]
        }
      ]
    },
    {
      "cell_type": "markdown",
      "source": [
        "# Question 4"
      ],
      "metadata": {
        "id": "62wx7a4Wije_"
      }
    },
    {
      "cell_type": "code",
      "source": [
        "from scipy.stats import t\n",
        "import numpy as np\n",
        "\n",
        "# Given data\n",
        "population_mean = 50\n",
        "target_probability = 0.05\n",
        "margin_of_error = 5  # half the width of the desired confidence interval\n",
        "sample_standard_deviation = 40\n",
        "\n",
        "# Calculate the t-value corresponding to the target probability and degrees of freedom (assuming large sample)\n",
        "degrees_of_freedom = np.inf  # large sample, so degrees of freedom approaches infinity\n",
        "t_value = t.ppf(1 - target_probability / 2, df=degrees_of_freedom)\n",
        "\n",
        "# Calculate the required sample size using the margin of error formula\n",
        "required_sample_size = ((sample_standard_deviation * t_value) / margin_of_error)**2\n",
        "\n",
        "print(f\"The minimum number of transactions required is: {required_sample_size:.2f}\")\n"
      ],
      "metadata": {
        "colab": {
          "base_uri": "https://localhost:8080/"
        },
        "id": "2BxkJqIdjper",
        "outputId": "b15da512-0c87-4549-ebcc-129d77548696"
      },
      "execution_count": 21,
      "outputs": [
        {
          "output_type": "stream",
          "name": "stdout",
          "text": [
            "The minimum number of transactions required is: 245.85\n"
          ]
        }
      ]
    },
    {
      "cell_type": "markdown",
      "source": [
        "# Question 5"
      ],
      "metadata": {
        "id": "iWILH8yKk3AO"
      }
    },
    {
      "cell_type": "code",
      "source": [
        "pip install numpy\n"
      ],
      "metadata": {
        "colab": {
          "base_uri": "https://localhost:8080/"
        },
        "id": "-U0gb_CSj6kS",
        "outputId": "c1284b1f-dece-4218-9e08-dbddeacf0dc1"
      },
      "execution_count": 22,
      "outputs": [
        {
          "output_type": "stream",
          "name": "stdout",
          "text": [
            "Requirement already satisfied: numpy in /usr/local/lib/python3.10/dist-packages (1.23.5)\n"
          ]
        }
      ]
    },
    {
      "cell_type": "code",
      "source": [
        "import numpy as np\n",
        "\n",
        "# Given data\n",
        "population_mean = 720\n",
        "population_stddev = 120\n",
        "sample_size = 30  # Assuming a moderate sample size\n",
        "\n",
        "# Simulate random samples\n",
        "num_samples = 1000\n",
        "samples = np.random.normal(population_mean, population_stddev, size=(num_samples, sample_size))\n",
        "\n",
        "# Calculate statistics for individual samples\n",
        "sample_stddevs = np.std(samples, axis=1)\n",
        "sample_means = np.mean(samples, axis=1)\n",
        "\n",
        "# Calculate statistics across several samples\n",
        "average_sample_mean = np.mean(sample_means)\n",
        "stddev_of_means = np.std(sample_means)\n",
        "\n",
        "# Display results\n",
        "print(f\"A. Standard deviation of scores within any sample: {np.mean(sample_stddevs):.2f}\")\n",
        "print(f\"B. Standard deviation of the mean across several samples: {stddev_of_means:.2f}\")\n",
        "print(f\"C. Mean score in any sample: {np.mean(sample_means):.2f}\")\n",
        "print(f\"D. Average of the mean across several samples: {average_sample_mean:.2f}\")\n",
        "print(f\"E. Standard deviation of the mean across several samples: {np.std(sample_means):.2f}\")\n"
      ],
      "metadata": {
        "colab": {
          "base_uri": "https://localhost:8080/"
        },
        "id": "C-0GSleBkWcc",
        "outputId": "1e79b552-57a5-4ba9-e6a4-2ead00f76c3e"
      },
      "execution_count": 23,
      "outputs": [
        {
          "output_type": "stream",
          "name": "stdout",
          "text": [
            "A. Standard deviation of scores within any sample: 116.66\n",
            "B. Standard deviation of the mean across several samples: 22.77\n",
            "C. Mean score in any sample: 719.46\n",
            "D. Average of the mean across several samples: 719.46\n",
            "E. Standard deviation of the mean across several samples: 22.77\n"
          ]
        }
      ]
    },
    {
      "cell_type": "code",
      "source": [],
      "metadata": {
        "id": "GyWBLTZkkyOM"
      },
      "execution_count": null,
      "outputs": []
    }
  ]
}